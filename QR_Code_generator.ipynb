{
  "nbformat": 4,
  "nbformat_minor": 0,
  "metadata": {
    "colab": {
      "provenance": [],
      "authorship_tag": "ABX9TyNMe3Vdm0daJwZWxIl3bKPG",
      "include_colab_link": true
    },
    "kernelspec": {
      "name": "python3",
      "display_name": "Python 3"
    },
    "language_info": {
      "name": "python"
    }
  },
  "cells": [
    {
      "cell_type": "markdown",
      "metadata": {
        "id": "view-in-github",
        "colab_type": "text"
      },
      "source": [
        "<a href=\"https://colab.research.google.com/github/Abhijeetp97/Python-Projects-for-Beginners/blob/main/QR_Code_generator.ipynb\" target=\"_parent\"><img src=\"https://colab.research.google.com/assets/colab-badge.svg\" alt=\"Open In Colab\"/></a>"
      ]
    },
    {
      "cell_type": "code",
      "source": [
        "pip install qrcode[pil]"
      ],
      "metadata": {
        "colab": {
          "base_uri": "https://localhost:8080/"
        },
        "id": "7uNDm3a8L228",
        "outputId": "a63d7140-480e-494c-a21e-f7ec2ad75e3f"
      },
      "execution_count": 2,
      "outputs": [
        {
          "output_type": "stream",
          "name": "stdout",
          "text": [
            "Collecting qrcode[pil]\n",
            "  Downloading qrcode-8.0-py3-none-any.whl.metadata (17 kB)\n",
            "Requirement already satisfied: pillow>=9.1.0 in /usr/local/lib/python3.11/dist-packages (from qrcode[pil]) (11.1.0)\n",
            "Downloading qrcode-8.0-py3-none-any.whl (45 kB)\n",
            "\u001b[?25l   \u001b[90m━━━━━━━━━━━━━━━━━━━━━━━━━━━━━━━━━━━━━━━━\u001b[0m \u001b[32m0.0/45.7 kB\u001b[0m \u001b[31m?\u001b[0m eta \u001b[36m-:--:--\u001b[0m\r\u001b[2K   \u001b[90m━━━━━━━━━━━━━━━━━━━━━━━━━━━━━━━━━━━━━━━━\u001b[0m \u001b[32m45.7/45.7 kB\u001b[0m \u001b[31m3.1 MB/s\u001b[0m eta \u001b[36m0:00:00\u001b[0m\n",
            "\u001b[?25hInstalling collected packages: qrcode\n",
            "Successfully installed qrcode-8.0\n"
          ]
        }
      ]
    },
    {
      "cell_type": "code",
      "source": [
        "import qrcode\n",
        "from PIL import Image\n",
        "\n",
        "def generate_qr_code(data, filename, fill_color='black', back_color='white'):\n",
        "    # Create a QR code instance\n",
        "    qr = qrcode.QRCode(\n",
        "        version=1,  # controls the size of the QR Code\n",
        "        error_correction=qrcode.constants.ERROR_CORRECT_L,  # controls the error correction used\n",
        "        box_size=10,  # controls how many pixels each “box” of the QR code is\n",
        "        border=4,  # controls how many boxes thick the border should be\n",
        "    )\n",
        "\n",
        "    # Add data to the QR code\n",
        "    qr.add_data(data)\n",
        "    qr.make(fit=True)\n",
        "\n",
        "    # Create an image from the QR code instance with custom colors\n",
        "    img = qr.make_image(fill_color=fill_color, back_color=back_color)\n",
        "\n",
        "    # Save the image\n",
        "    img.save(filename)\n",
        "    print(f\"QR code saved as {filename}\")\n",
        "\n",
        "def main():\n",
        "    print(\"Welcome to the QR Code Generator!\")\n",
        "\n",
        "    # Choose the color for the QR code\n",
        "    fill_color = input(\"Enter the color for the QR code (e.g., 'black', 'blue', 'red'): \").strip()\n",
        "    back_color = input(\"Enter the background color for the QR code (e.g., 'white', 'yellow'): \").strip()\n",
        "\n",
        "    # Get multiple inputs from the user\n",
        "    user_inputs = input(\"Enter the text or URLs to generate QR codes (separated by commas): \").strip().split(',')\n",
        "    user_inputs = [x.strip() for x in user_inputs]  # Remove any leading/trailing whitespace\n",
        "\n",
        "    # Get filenames from the user\n",
        "    filenames = input(\"Enter the filenames for each QR code (separated by commas): \").strip().split(',')\n",
        "    filenames = [x.strip() for x in filenames]  # Remove any leading/trailing whitespace\n",
        "\n",
        "    if len(user_inputs) != len(filenames):\n",
        "        print(\"Error: The number of texts/URLs and filenames must be equal.\")\n",
        "        return\n",
        "\n",
        "    for data, filename in zip(user_inputs, filenames):\n",
        "        generate_qr_code(data, filename, fill_color, back_color)\n",
        "\n",
        "    print(\"All QR codes have been generated successfully!\")\n",
        "\n",
        "if __name__ == \"__main__\":\n",
        "    main()"
      ],
      "metadata": {
        "colab": {
          "base_uri": "https://localhost:8080/"
        },
        "id": "sq2kJy1XObV0",
        "outputId": "8ab4c931-7e79-49a8-b164-96e37e6f8974"
      },
      "execution_count": 6,
      "outputs": [
        {
          "output_type": "stream",
          "name": "stdout",
          "text": [
            "Welcome to the QR Code Generator!\n",
            "Enter the color for the QR code (e.g., 'black', 'blue', 'red'): blue\n",
            "Enter the background color for the QR code (e.g., 'white', 'yellow'): white\n",
            "Enter the text or URLs to generate QR codes (separated by commas): https://www.linkedin.com/in/abhijeet-rahul-patil/\n",
            "Enter the filenames for each QR code (separated by commas): Abhijeet_Linkedin.png\n",
            "QR code saved as Abhijeet_Linkedin.png\n",
            "All QR codes have been generated successfully!\n"
          ]
        }
      ]
    }
  ]
}